{
 "cells": [
  {
   "cell_type": "code",
   "execution_count": 1,
   "metadata": {
    "executionInfo": {
     "elapsed": 2275,
     "status": "ok",
     "timestamp": 1731533789882,
     "user": {
      "displayName": "James Barrett",
      "userId": "17975627873006480562"
     },
     "user_tz": 300
    },
    "id": "iqc6IvSbs5TQ"
   },
   "outputs": [],
   "source": [
    "#imports\n",
    "import numpy as np\n",
    "import os\n",
    "import pandas as pd\n",
    "import seaborn as sns\n",
    "from sklearn.svm import SVC\n",
    "from sklearn.metrics import accuracy_score, confusion_matrix\n",
    "import pickle\n",
    "import matplotlib.pyplot as plt\n",
    "from mpl_toolkits.mplot3d import axes3d\n",
    "import time"
   ]
  },
  {
   "cell_type": "code",
   "execution_count": 2,
   "metadata": {
    "executionInfo": {
     "elapsed": 8606,
     "status": "ok",
     "timestamp": 1731533798486,
     "user": {
      "displayName": "James Barrett",
      "userId": "17975627873006480562"
     },
     "user_tz": 300
    },
    "id": "4StkVf1KsybT"
   },
   "outputs": [],
   "source": [
    "#only need to run this once to convert csv's to npy's\n",
    "piyu = ['forward', 'backward', 'turn-left', 'turn-right', 'still'] #need to remove time and flip gyros with accels for Piyu's data\n",
    "for foldername in os.listdir('Data'):\n",
    "  if not os.path.exists('npData/' + foldername):\n",
    "    os.makedirs('npData/' + foldername)\n",
    "  for filename in os.listdir('Data/' + foldername):\n",
    "    file_path = ('Data/' + foldername + \"/\" + filename)\n",
    "    data = pd.read_csv(file_path)\n",
    "    data_array = data.to_numpy()\n",
    "    if foldername in piyu: #remove time and flip\n",
    "      data_array = data_array[:,1:]\n",
    "      data_array = np.concatenate((data_array[:, 3:], data_array[:, :3]), axis=1)\n",
    "      if 'still' in filename:\n",
    "          data_array = data_array[:300,:] #clip time to 300 since this was accidentally 4 seconds\n",
    "    new_path = 'npData/' + foldername + \"/\" + filename[:len(filename)-4]\n",
    "    np.save(new_path, data_array)"
   ]
  },
  {
   "cell_type": "code",
   "execution_count": 3,
   "metadata": {
    "executionInfo": {
     "elapsed": 145,
     "status": "ok",
     "timestamp": 1731533810414,
     "user": {
      "displayName": "James Barrett",
      "userId": "17975627873006480562"
     },
     "user_tz": 300
    },
    "id": "rXlSJVoOnWCk"
   },
   "outputs": [],
   "source": [
    "#numerical mapping for directions\n",
    "wordToNum = {'up': 1, 'down': 2, 'left': 3, 'right': 4, 'forward': 5, 'turn-left': 7, 'turn-right': 8, 'still': 9}\n",
    "numToWord = {1: 'up', 2: 'down', 3: 'left', 4: 'right', 5: 'forward', 7: 'turn-left', 8: 'turn-right', 9: 'still'}\n",
    "# model cannot recognize backward very well, so removing that motion\n",
    "# wordToNum = {'up': 1, 'down': 2, 'left': 3, 'right': 4, 'forward': 5, 'backward': 6, 'turn-left': 7, 'turn-right': 8, 'still': 9}\n",
    "# numToWord = {1: 'up', 2: 'down', 3: 'left', 4: 'right', 5: 'forward', 6: 'backward', 7: 'turn-left', 8: 'turn-right', 9: 'still'}"
   ]
  },
  {
   "cell_type": "code",
   "execution_count": 5,
   "metadata": {
    "colab": {
     "base_uri": "https://localhost:8080/"
    },
    "executionInfo": {
     "elapsed": 1288,
     "status": "ok",
     "timestamp": 1731533837008,
     "user": {
      "displayName": "James Barrett",
      "userId": "17975627873006480562"
     },
     "user_tz": 300
    },
    "id": "PwP2_oXrq_RK",
    "outputId": "4faaac6d-db02-43e4-9f33-65701ac0e254"
   },
   "outputs": [
    {
     "name": "stdout",
     "output_type": "stream",
     "text": [
      "right loaded with shape (30, 300, 6)\n",
      "turn-right loaded with shape (30, 300, 6)\n",
      "turn-left loaded with shape (30, 300, 6)\n",
      "left loaded with shape (30, 300, 6)\n",
      "up loaded with shape (30, 300, 6)\n",
      "down loaded with shape (30, 300, 6)\n",
      "still loaded with shape (30, 300, 6)\n",
      "forward loaded with shape (30, 300, 6)\n",
      "random Loaded with shape (12, 300, 6)\n"
     ]
    }
   ],
   "source": [
    "#run this every time to load the npy data\n",
    "data_dict = {}\n",
    "random = np.zeros((0,300,6))\n",
    "for foldername in os.listdir('npData'):\n",
    "    if foldername == '.ipynb_checkpoints':\n",
    "        pass\n",
    "    elif foldername == 'random':\n",
    "        for filename in os.listdir('npData/' + foldername):\n",
    "          file_path = 'npData/' + foldername + \"/\" + filename\n",
    "          data = np.load(file_path)\n",
    "          random = np.append(random, [data[:300]], axis=0)\n",
    "    elif foldername == 'backward':\n",
    "        pass # model cannot recognize backward very well, so removing that motion\n",
    "    else:\n",
    "      if foldername not in data_dict:\n",
    "          data_dict[foldername] = np.zeros((0,300,6)) #N=numTrials, T=time (in milliseconds), F=features (accel_x, gyro_y, ...)\n",
    "      for filename in os.listdir('npData/' + foldername):\n",
    "          file_path = 'npData/' + foldername + \"/\" + filename\n",
    "          data = np.load(file_path)\n",
    "          data_dict[foldername] = np.append(data_dict[foldername], [data], axis=0)\n",
    "\n",
    "wordDirs = np.array(list(data_dict.keys()))\n",
    "numDirs = np.array([wordToNum[wordDir] for wordDir in wordDirs])\n",
    "reports = [\"{} loaded with shape {}\".format(dir, str(data_dict[dir].shape)) for dir in wordDirs]\n",
    "for report in reports:\n",
    "  print(report)\n",
    "print(\"{} Loaded with shape {}\".format(\"random\", random.shape))"
   ]
  },
  {
   "cell_type": "code",
   "execution_count": 6,
   "metadata": {
    "executionInfo": {
     "elapsed": 113,
     "status": "ok",
     "timestamp": 1731533866677,
     "user": {
      "displayName": "James Barrett",
      "userId": "17975627873006480562"
     },
     "user_tz": 300
    },
    "id": "IyIecLZXtaMz"
   },
   "outputs": [],
   "source": [
    "#create train, val, and test\n",
    "Xall = np.concatenate(list(data_dict.values()))\n",
    "Yall = np.repeat(numDirs, 30)\n",
    "\n",
    "#shuffle data\n",
    "permutation = np.random.permutation(Xall.shape[0])\n",
    "XallShuffled = Xall[permutation]\n",
    "YallShuffled = Yall[permutation]\n",
    "\n",
    "#split into train, val, and test\n",
    "splitInd = round(Xall.shape[0] * 0.875)\n",
    "Xtr, Xte = XallShuffled[:splitInd], XallShuffled[splitInd:]\n",
    "Ytr, Yte = YallShuffled[:splitInd], YallShuffled[splitInd:]"
   ]
  },
  {
   "cell_type": "code",
   "execution_count": 7,
   "metadata": {
    "colab": {
     "base_uri": "https://localhost:8080/"
    },
    "executionInfo": {
     "elapsed": 129,
     "status": "ok",
     "timestamp": 1731533867378,
     "user": {
      "displayName": "James Barrett",
      "userId": "17975627873006480562"
     },
     "user_tz": 300
    },
    "id": "J3uVcgmIu3DX",
    "outputId": "3f8ee1cd-7227-44cf-deb5-a7e8748a8396"
   },
   "outputs": [
    {
     "name": "stdout",
     "output_type": "stream",
     "text": [
      "Test accuracy: 100.00%\n",
      "Test accuracy: 100.00%\n"
     ]
    }
   ],
   "source": [
    "# Train the classifier\n",
    "svm_classifier = SVC(kernel='linear', probability=True) #seems linear works best, and we need probability for confidence prediction\n",
    "XtrFlat = np.reshape(Xtr, (Xtr.shape[0],np.prod(Xtr.shape[1:]))) #TODO I'd like to see if I can avoid flattening this\n",
    "XteFlat = np.reshape(Xte, (Xte.shape[0],np.prod(Xte.shape[1:]))) #TODO I'd like to see if I can avoid flattening this\n",
    "svm_classifier.fit(XtrFlat, Ytr)\n",
    "YtrHat = svm_classifier.predict(XtrFlat)\n",
    "trainAccuracy = accuracy_score(Ytr, YtrHat)\n",
    "print(f'Test accuracy: {trainAccuracy:.2%}')\n",
    "YteHat = svm_classifier.predict(XteFlat)\n",
    "testAccuracy = accuracy_score(Yte, YteHat)\n",
    "print(f'Test accuracy: {testAccuracy:.2%}')\n",
    "\n",
    "#TODO going to need to test a few different regularization parameters C, kernals kernal (possibly degree if kernal is 'poly'),"
   ]
  },
  {
   "cell_type": "code",
   "execution_count": 8,
   "metadata": {
    "executionInfo": {
     "elapsed": 109,
     "status": "ok",
     "timestamp": 1731533840272,
     "user": {
      "displayName": "James Barrett",
      "userId": "17975627873006480562"
     },
     "user_tz": 300
    },
    "id": "WnOBgJvQ_i0w"
   },
   "outputs": [],
   "source": [
    "trainConfidences = np.max(svm_classifier.predict_proba(XtrFlat), axis=1)\n",
    "testConfidences = np.max(svm_classifier.predict_proba(XteFlat), axis=1)\n",
    "randomFlat = np.reshape(random, (random.shape[0],np.prod(Xtr.shape[1:])))\n",
    "randomConfidences = np.max(svm_classifier.predict_proba(randomFlat), axis=1)"
   ]
  },
  {
   "cell_type": "code",
   "execution_count": 9,
   "metadata": {
    "colab": {
     "base_uri": "https://localhost:8080/",
     "height": 524
    },
    "executionInfo": {
     "elapsed": 747,
     "status": "ok",
     "timestamp": 1731533869185,
     "user": {
      "displayName": "James Barrett",
      "userId": "17975627873006480562"
     },
     "user_tz": 300
    },
    "id": "zmMJc2OamBpq",
    "outputId": "23a9d4cd-cb52-49ac-aba9-8b0f77a806ba"
   },
   "outputs": [
    {
     "data": {
      "image/png": "[encoded data removed]",
      "text/plain": [
       "<Figure size 640x480 with 2 Axes>"
      ]
     },
     "metadata": {},
     "output_type": "display_data"
    }
   ],
   "source": [
    "conf_matrix = confusion_matrix(Yte, YteHat)\n",
    "labels = np.array(list(numToWord.values()))\n",
    "df = pd.DataFrame(conf_matrix, index = labels,\n",
    "                  columns = labels)\n",
    "sns.heatmap(df, annot=True, cmap=\"Reds\")\n",
    "plt.title('train')\n",
    "plt.xlabel('pred')\n",
    "plt.ylabel('actual')\n",
    "plt.show()"
   ]
  },
  {
   "cell_type": "code",
   "execution_count": 10,
   "metadata": {
    "executionInfo": {
     "elapsed": 488,
     "status": "ok",
     "timestamp": 1731533872461,
     "user": {
      "displayName": "James Barrett",
      "userId": "17975627873006480562"
     },
     "user_tz": 300
    },
    "id": "cI3h6xjkx3l4"
   },
   "outputs": [],
   "source": [
    "# Export model to file\n",
    "with open('model.pkl','wb') as f:\n",
    "    pickle.dump(svm_classifier,f)"
   ]
  },
  {
   "cell_type": "markdown",
   "metadata": {
    "id": "c_Hc2jv2yOLf"
   },
   "source": [
    "This next cell will need to be put into our python implementation for the model"
   ]
  },
  {
   "cell_type": "code",
   "execution_count": 11,
   "metadata": {
    "executionInfo": {
     "elapsed": 171,
     "status": "ok",
     "timestamp": 1731533873380,
     "user": {
      "displayName": "James Barrett",
      "userId": "17975627873006480562"
     },
     "user_tz": 300
    },
    "id": "VvoW-8ityLn3"
   },
   "outputs": [],
   "source": [
    "# Load model from file\n",
    "with open('model.pkl', 'rb') as f:\n",
    "    svm_classifierReloaded = pickle.load(f)"
   ]
  },
  {
   "cell_type": "code",
   "execution_count": 12,
   "metadata": {
    "colab": {
     "base_uri": "https://localhost:8080/"
    },
    "executionInfo": {
     "elapsed": 120,
     "status": "ok",
     "timestamp": 1731533874299,
     "user": {
      "displayName": "James Barrett",
      "userId": "17975627873006480562"
     },
     "user_tz": 300
    },
    "id": "-vohEHpHzCYp",
    "outputId": "d90bf7d0-be35-421b-8ed0-261accdefbc8"
   },
   "outputs": [
    {
     "name": "stdout",
     "output_type": "stream",
     "text": [
      "We classify those actions as: ['left', 'turn-left', 'right', 'right', 'right', 'turn-right', 'down', 'down', 'still', 'up', 'left', 'left', 'right', 'down', 'right', 'still', 'down', 'down', 'still', 'forward', 'up', 'left', 'turn-right', 'down', 'turn-right', 'down', 'right', 'left', 'turn-left', 'forward']\n"
     ]
    }
   ],
   "source": [
    "# Classify new data\n",
    "newData = XteFlat #example\n",
    "obsNumDirs = svm_classifierReloaded.predict(newData)\n",
    "obsWordDirs = [numToWord[obsNumDir] for obsNumDir in obsNumDirs]\n",
    "print('We classify those actions as:', obsWordDirs)"
   ]
  },
  {
   "cell_type": "markdown",
   "metadata": {
    "id": "L62R-oh_c_Bs"
   },
   "source": [
    "### Deprecated"
   ]
  },
  {
   "cell_type": "code",
   "execution_count": null,
   "metadata": {
    "id": "50_AKVWTKS-r"
   },
   "outputs": [],
   "source": [
    "# deprecated for analyzing confidence on random data versus test and train data when considering identifying idle data\n",
    "fig, ax = plt.subplots()\n",
    "ax.set_ylabel('confidence (%)')\n",
    "bplot = ax.boxplot([trainConfidences, testConfidences, randomConfidences], patch_artist=True)\n",
    "plt.xticks([1, 2, 3], ['train', 'test', 'random'])\n",
    "plt.show()"
   ]
  }
 ],
 "metadata": {
  "colab": {
   "collapsed_sections": [
    "L62R-oh_c_Bs"
   ],
   "provenance": []
  },
  "kernelspec": {
   "display_name": "Python 3",
   "name": "python3"
  },
  "language_info": {
   "codemirror_mode": {
    "name": "ipython",
    "version": 3
   },
   "file_extension": ".py",
   "mimetype": "text/x-python",
   "name": "python",
   "nbconvert_exporter": "python",
   "pygments_lexer": "ipython3",
   "version": "3.12.6"
  }
 },
 "nbformat": 4,
 "nbformat_minor": 0
}
